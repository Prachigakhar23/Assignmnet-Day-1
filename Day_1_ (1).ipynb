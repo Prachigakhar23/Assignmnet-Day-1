{
  "nbformat": 4,
  "nbformat_minor": 0,
  "metadata": {
    "colab": {
      "name": "Day 1 .ipynb",
      "provenance": [],
      "collapsed_sections": []
    },
    "kernelspec": {
      "name": "python3",
      "display_name": "Python 3"
    },
    "language_info": {
      "name": "python"
    }
  },
  "cells": [
    {
      "cell_type": "code",
      "metadata": {
        "colab": {
          "base_uri": "https://localhost:8080/"
        },
        "id": "1jIDQAFLo1hD",
        "outputId": "30ac1cf5-9485-4792-e447-a6a66c3a636a"
      },
      "source": [
        "print( 'Hello World')\n"
      ],
      "execution_count": null,
      "outputs": [
        {
          "output_type": "stream",
          "text": [
            "Hello World\n"
          ],
          "name": "stdout"
        }
      ]
    },
    {
      "cell_type": "code",
      "metadata": {
        "colab": {
          "base_uri": "https://localhost:8080/"
        },
        "id": "VJyMdRqWqqqG",
        "outputId": "f2f3e8e9-cf6b-4bcb-9c40-29deb4fb0d79"
      },
      "source": [
        "print('Hello', end ='  ')\n",
        "print( 'coders' )"
      ],
      "execution_count": null,
      "outputs": [
        {
          "output_type": "stream",
          "text": [
            "Hello  coders\n"
          ],
          "name": "stdout"
        }
      ]
    },
    {
      "cell_type": "code",
      "metadata": {
        "colab": {
          "base_uri": "https://localhost:8080/"
        },
        "id": "W7ilN10Zs1Pl",
        "outputId": "69970768-3cfa-4ed1-854a-b7ab63375fda"
      },
      "source": [
        "print('Hello','Coder')"
      ],
      "execution_count": null,
      "outputs": [
        {
          "output_type": "stream",
          "text": [
            "Hello Coder\n"
          ],
          "name": "stdout"
        }
      ]
    },
    {
      "cell_type": "code",
      "metadata": {
        "colab": {
          "base_uri": "https://localhost:8080/"
        },
        "id": "UECVdzazs9x3",
        "outputId": "0eea5531-d1a5-4826-b97b-3fad98f1c816"
      },
      "source": [
        "a=23\n",
        "print(type(a))"
      ],
      "execution_count": null,
      "outputs": [
        {
          "output_type": "stream",
          "text": [
            "<class 'int'>\n"
          ],
          "name": "stdout"
        }
      ]
    },
    {
      "cell_type": "code",
      "metadata": {
        "id": "HsFBjl2Ptpoa"
      },
      "source": [
        "x=10\n",
        "y=20\n",
        "z=30"
      ],
      "execution_count": null,
      "outputs": []
    },
    {
      "cell_type": "code",
      "metadata": {
        "colab": {
          "base_uri": "https://localhost:8080/"
        },
        "id": "yN-Mgy3RuAbc",
        "outputId": "c7a3f9e3-cc58-4ac6-808d-7a46c7cd8a4c"
      },
      "source": [
        "a=b=c=20\n",
        "print(a,b,c)"
      ],
      "execution_count": null,
      "outputs": [
        {
          "output_type": "stream",
          "text": [
            "20 20 20\n"
          ],
          "name": "stdout"
        }
      ]
    },
    {
      "cell_type": "code",
      "metadata": {
        "colab": {
          "base_uri": "https://localhost:8080/"
        },
        "id": "B3XNl3OIulNI",
        "outputId": "437f9b90-c273-4819-8dd5-f2dd8ef72f48"
      },
      "source": [
        "print(id(a))\n",
        "print(id(b))\n",
        "print(id(c))"
      ],
      "execution_count": null,
      "outputs": [
        {
          "output_type": "stream",
          "text": [
            "94605611441248\n",
            "94605611441248\n",
            "94605611441248\n"
          ],
          "name": "stdout"
        }
      ]
    },
    {
      "cell_type": "code",
      "metadata": {
        "colab": {
          "base_uri": "https://localhost:8080/"
        },
        "id": "zU98DK99vJnR",
        "outputId": "9d5892e6-5d8c-4585-b289-ca62af9fe8b4"
      },
      "source": [
        "a=b=c=20\n",
        "\n",
        "print(id(a))\n",
        "print(id(b))\n",
        "print(id(c))\n",
        "\n",
        "b=30\n",
        "\n",
        "print(a,b,c) #immutialbilty\n"
      ],
      "execution_count": null,
      "outputs": [
        {
          "output_type": "stream",
          "text": [
            "94605611441248\n",
            "94605611441248\n",
            "94605611441248\n",
            "20 30 20\n"
          ],
          "name": "stdout"
        }
      ]
    },
    {
      "cell_type": "code",
      "metadata": {
        "colab": {
          "base_uri": "https://localhost:8080/"
        },
        "id": "_aKhG04FwgQY",
        "outputId": "0d7a21a1-2f14-4fb1-ca00-7fe6f98adb70"
      },
      "source": [
        "x=input('enter first value')\n",
        "y=input('enter second value') #input is a string\n",
        "print(x+y)\n"
      ],
      "execution_count": null,
      "outputs": [
        {
          "output_type": "stream",
          "text": [
            "enter first value20\n",
            "enter second value30\n",
            "2030\n"
          ],
          "name": "stdout"
        }
      ]
    },
    {
      "cell_type": "code",
      "metadata": {
        "colab": {
          "base_uri": "https://localhost:8080/"
        },
        "id": "HiY5AL4AxGi7",
        "outputId": "14861369-3697-4502-8ad7-b0e7d0ba674f"
      },
      "source": [
        "x=int(input('enter first value'))\n",
        "y=int(input('enter second value')) #input is a string\n",
        "print(x+y)"
      ],
      "execution_count": null,
      "outputs": [
        {
          "output_type": "stream",
          "text": [
            "enter first value20\n",
            "enter second value30\n",
            "50\n"
          ],
          "name": "stdout"
        }
      ]
    },
    {
      "cell_type": "code",
      "metadata": {
        "colab": {
          "base_uri": "https://localhost:8080/"
        },
        "id": "TbtDpB62yZk7",
        "outputId": "2ff7ba9e-2744-48a7-b31c-e959eab906ef"
      },
      "source": [
        "x=input('enter value') ## Assignmnet- Day 1\n",
        "\n",
        "print(type(x))\n",
        "val= [int(i) for i in x.split()]\n",
        "print(val)\n",
        "\n",
        "\n"
      ],
      "execution_count": null,
      "outputs": [
        {
          "output_type": "stream",
          "text": [
            "enter value10 20 30 40 50\n",
            "<class 'str'>\n",
            "[10, 20, 30, 40, 50]\n"
          ],
          "name": "stdout"
        }
      ]
    },
    {
      "cell_type": "code",
      "metadata": {
        "colab": {
          "base_uri": "https://localhost:8080/"
        },
        "id": "wi0Y768n3M1T",
        "outputId": "a7c27700-1de3-4793-c1ce-5dc7e4701daf"
      },
      "source": [
        "li=[20,30,40,60,70]\n",
        "li.sort()\n",
        "print(li)\n",
        "li.reverse()\n",
        "print(li)\n"
      ],
      "execution_count": null,
      "outputs": [
        {
          "output_type": "stream",
          "text": [
            "[20, 30, 40, 60, 70]\n",
            "[70, 60, 40, 30, 20]\n"
          ],
          "name": "stdout"
        }
      ]
    }
  ]
}