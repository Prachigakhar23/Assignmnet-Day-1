{
  "nbformat": 4,
  "nbformat_minor": 0,
  "metadata": {
    "colab": {
      "name": "Assignment2.ipynb",
      "provenance": [],
      "collapsed_sections": [],
      "authorship_tag": "ABX9TyNNZqWkfkse4UcTpQ6NpW5x",
      "include_colab_link": true
    },
    "kernelspec": {
      "name": "python3",
      "display_name": "Python 3"
    },
    "language_info": {
      "name": "python"
    }
  },
  "cells": [
    {
      "cell_type": "markdown",
      "metadata": {
        "id": "view-in-github",
        "colab_type": "text"
      },
      "source": [
        "<a href=\"https://colab.research.google.com/github/Prachigakhar23/Assignmnet-Day-1/blob/main/Assignment2.ipynb\" target=\"_parent\"><img src=\"https://colab.research.google.com/assets/colab-badge.svg\" alt=\"Open In Colab\"/></a>"
      ]
    },
    {
      "cell_type": "code",
      "metadata": {
        "colab": {
          "base_uri": "https://localhost:8080/"
        },
        "id": "YuogmVwocLDk",
        "outputId": "a8e6b1e3-89c8-4e31-eb51-aa797f1bdc97"
      },
      "source": [
        "li=[1,2,3,4,5]\n",
        "print(li)\n",
        "li.remove(3)\n",
        "print(li)\n",
        "li.remove(1)\n",
        "print(li)\n",
        "li.remove(2)\n",
        "print(li)\n",
        "li.remove(4)\n",
        "print(li)\n",
        "li.remove(5)\n",
        "print(li)"
      ],
      "execution_count": 8,
      "outputs": [
        {
          "output_type": "stream",
          "text": [
            "[1, 2, 3, 4, 5]\n",
            "[1, 2, 4, 5]\n",
            "[2, 4, 5]\n",
            "[4, 5]\n",
            "[5]\n",
            "[]\n"
          ],
          "name": "stdout"
        }
      ]
    }
  ]
}